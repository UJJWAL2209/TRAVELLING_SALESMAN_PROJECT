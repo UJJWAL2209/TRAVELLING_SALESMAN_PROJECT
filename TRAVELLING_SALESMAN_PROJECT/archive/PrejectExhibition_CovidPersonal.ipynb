{
 "cells": [
  {
   "cell_type": "markdown",
   "metadata": {
    "slideshow": {
     "slide_type": "slide"
    },
    "tags": [
     "About_Project"
    ]
   },
   "source": [
    "### This project is to help find the _shortest_ and _safest_ path for a **covid personal** in visiting houses with Covid-19 positive patients in a perticular locality.\n",
    "---------\n",
    "The idea on which this project is bases on the classic `Travelling Salesman Problem`"
   ]
  },
  {
   "cell_type": "markdown",
   "metadata": {
    "slideshow": {
     "slide_type": "notes"
    },
    "tags": []
   },
   "source": [
    "This cell is for all `import(s)` needed."
   ]
  },
  {
   "cell_type": "code",
   "execution_count": null,
   "metadata": {},
   "outputs": [],
   "source": [
    "import matplotlib.pyplot as plt\n",
    "import numpy as np\n",
    "import pandas as pd\n",
    "import math as m\n",
    "import logging\n",
    "logging.basimport matplotlib.pyplot as plt\n",
    "import numpy as np\n",
    "import pandas as pd\n",
    "import math as m\n",
    "import logging\n",
    "logging.basicConfig(filename=\"logfile.log\", level=logging.INFO)\n",
    "\n",
    "import osmnx as ox\n",
    "import networkx as nx\n",
    "from IPython.display import IFrame, display, clear_output\n",
    "ox.config(log_console=True, use_cache=True)\n",
    "\n",
    "import sys\n",
    "import os\n",
    "from time import sleepicConfig(filename=\"logfile.log\", level=logging.INFO)\n",
    "\n",
    "import osmnx as ox\n",
    "import networkx as nx\n",
    "from IPython.display import IFrame, display, clear_output\n",
    "ox.config(log_console=True, use_cache=True)\n",
    "\n",
    "import sys\n",
    "import os\n",
    "from time import sleep"
   ]
  },
  {
   "cell_type": "markdown",
   "metadata": {},
   "source": [
    "This cell has code for making the `logfile.log` empty."
   ]
  },
  {
   "cell_type": "code",
   "execution_count": null,
   "metadata": {},
   "outputs": [],
   "source": [
    "def cleanLogFile():\n",
    "    with open('logfile.log','w') as file:\n",
    "        file.write('')\n",
    "    file.close()"
   ]
  },
  {
   "cell_type": "markdown",
   "metadata": {
    "slideshow": {
     "slide_type": "notes"
    },
    "tags": []
   },
   "source": [
    "This cell has the code for finding the shortest path using _brute force_ approach."
   ]
  },
  {
   "cell_type": "code",
   "execution_count": null,
   "metadata": {
    "tags": []
   },
   "outputs": [],
   "source": [
    "numHouses = 4\n",
    "houses = []\n",
    "bestDist, recordDist = [], 1.7976931348623157e308\n",
    "_x,_y = [],[]\n",
    "\n",
    "def setup():\n",
    "    '''This function is used to create the houses by storing their location in a list'''\n",
    "    for i in range(numHouses):\n",
    "        houses.append((np.random.randint(10, high=100, size=2)).tolist())\n",
    "        houses[i].append(i+1)\n",
    "    cleanLogFile()\n",
    "\n",
    "def draw():\n",
    "    '''This finction is ment to graph the houses' position and put a path between the houses'''\n",
    "    global recordDist,_x,_y,bestDist\n",
    "    xList,yList = [],[]\n",
    "    \n",
    "    plt.style.use('dark_background')\n",
    "    plt.subplots(figsize=(10, 5))\n",
    "    fig = plt.subplot(1,2,1)\n",
    "    \n",
    "    # Plotting the graph with given house sequence\n",
    "    for i in range(len(houses)): \n",
    "        x=houses[i][0]\n",
    "        y=houses[i][1]\n",
    "        xList.append(x)\n",
    "        yList.append(y)\n",
    "        plt.plot(x,y,'ro',ms='5')\n",
    "        plt.annotate('house {}'.format(houses[i][2]),xy=(x-5,y-5),color='y')\n",
    "    plt.style.use('dark_background')\n",
    "    plt.ylim(0,110)\n",
    "    plt.xlim(0,110)\n",
    "    plt.ylabel('Latitude')\n",
    "    plt.xlabel('Longitude')\n",
    "    plt.grid(color='grey', linestyle='-', linewidth='0.25')\n",
    "    plt.plot(xList, yList, color='white')\n",
    "    plt.title(\"House Map of a locality\")\n",
    "    # plt.show()\n",
    "   \n",
    "    \n",
    "    dist=calcDistance(xList,yList)\n",
    "    logging.info(str(\"Distange for house order -> {1} is \\\"{0:.5f} units\\\"\"\n",
    "                     .format(dist,str([i[2] for i in houses])))) #Log tracking all the calculaed distances\n",
    "    if(dist<recordDist):\n",
    "        bestDist=houses\n",
    "        recordDist=dist\n",
    "        _x=xList\n",
    "        _y=yList\n",
    "    # Plotting the graph of the shortest path\n",
    "    plt.subplots(figsize=(10, 5))\n",
    "    fig = plt.subplot(1,2,2)\n",
    "    plt.plot(_x,_y,'ro',ms='6')\n",
    "    plt.plot(_x, _y, color='pink',ms='5')\n",
    "    plt.title(\"Total distance = {0:.5f} units\\nVisiting House sequence:{1}\"\n",
    "              .format(recordDist,str([i[2] for i in bestDist])))\n",
    "    plt.ylim(0,110)\n",
    "    plt.xlim(0,110)\n",
    "    plt.ylabel('Latitude')\n",
    "    plt.xlabel('Longitude')\n",
    "    plt.grid(color='grey', linestyle='-', linewidth='0.25')\n",
    "    for j in range(len(houses)):\n",
    "        plt.annotate('house {}'.format(houses[j][2]),xy=(_x[j]-5,_y[j]-5),color='y')\n",
    "    \n",
    "    plt.show() # Displaying all the ploted graph(s)\n",
    "    \n",
    "    i,j=np.random.randint(0, high=len(houses), size=2)\n",
    "    swap(i,j)\n",
    "\n",
    "def swap(i,j):\n",
    "    houses[i],houses[j] = houses[j],houses[i]\n",
    "\n",
    "def calcDistance(x,y):\n",
    "    _sum=0\n",
    "    for i in range(numHouses-1):\n",
    "       with open('logfile.log','w') as file:\n",
    "        file.write('')\n",
    "    file.close()"
   ]
  },
  {
   "cell_type": "code",
   "execution_count": null,
   "metadata": {
    "tags": []
   },
   "outputs": [],
   "source": [
    "setup()\n",
    "# houses"
   ]
  },
  {
   "cell_type": "code",
   "execution_count": null,
   "metadata": {
    "tags": []
   },
   "outputs": [],
   "source": [
    "# for i in range(m.factorial(int(numHouses))):\n",
    "    # draw()\n",
    "draw()"
   ]
  },
  {
   "cell_type": "markdown",
   "metadata": {},
   "source": [
    "This cell has code to find the shortest distance between two nodes and presentg it on a map."
   ]
  },
  {
   "cell_type": "code",
   "execution_count": null,
   "metadata": {
    "tags": []
   },
   "outputs": [],
   "source": [
    "place_name = \"Jalpaiguri, West Bengal\"\n",
    "graph = ox.graph_from_place(place_name, network_type='walk')\n",
    "\n",
    "# project the network to an appropriate UTM (automatically determined)\n",
    "graph_projected = ox.project_graph(graph)\n",
    "\n",
    "# you can also plot/save figures as SVGs to work with in Illustrator later\n",
    "fig, ax = ox.plot_graph(graph_projected, save=False)\n",
    "\n",
    "origin_node = list(graph.nodes())[150]\n",
    "destination_node = list(graph.nodes())[250]\n",
    "route = nx.shortest_path(graph, origin_node, destination_node)\n",
    "\n",
    "route_length = nx.shortest_path(graph, origin_node, destination_node, weight='length')\n",
    "\n",
    "# plot the route with folium\n",
    "route_map_length = ox.plot_route_folium(graph, route_length)\n",
    "\n",
    "# save as html file then display map as an iframe\n",
    "filepath = 'D:\\Programming\\VS Code\\Project Exhibition 1\\graph.html'\n",
    "route_map_length.save(filepath)\n",
    "IFrame(filepath, width=800, height=500)"
   ]
  },
  {
   "cell_type": "markdown",
   "metadata": {},
   "source": [
    "This cell has code to take any permutation and generate the next one in lexicographic order.  \n",
    "[`Algorithm`](https://www.quora.com/How-would-you-explain-an-algorithm-that-generates-permutations-using-lexicographic-ordering) for the generating __lexicographic order__:\n",
    "> __Step 1:__  Find the _largest_ `x` such that `P[x]<P[x+1]`. ( If there is no such `x`, `P` is the _last permutation_. )  \n",
    "> __Step 2:__  Find the _largest_ `y` such that `P[x]<P[y]`.  \n",
    "> __Step 3:__  _Swap_ `P[x]` and `P[y]`.  \n",
    "> __Step 4:__  _Reverse_ `P[x+1 .. n]`.  "
   ]
  },
  {
   "cell_type": "code",
   "execution_count": null,
   "metadata": {
    "tags": []
   },
   "outputs": [],
   "source": [
    "# vals=[5,1,7,6,3,9,8,4,2]\n",
    "vals=[0,1,2,3]\n",
    "\n",
    "def lexico():\n",
    "    global vals\n",
    "    flg = True\n",
    "    \n",
    "    while flg:\n",
    "        print(vals)\n",
    "\n",
    "        # Step 1\n",
    "        largestI = -1\n",
    "        for i in range(len(vals)-1):\n",
    "            if vals[i]<vals[i+1]:\n",
    "                largestI=i\n",
    "        if largestI == -1:\n",
    "            \\aprint('finished!')\n",
    "            flg = False\n",
    "\n",
    "        # Step 2\n",
    "        largestJ = -1\n",
    "        for j in range(len(vals)):\n",
    "            if(vals[largestI]<vals[j]):\n",
    "                largestJ=j\n",
    "\n",
    "        # Step 3\n",
    "        swap(largestI,largestJ)\n",
    "\n",
    "        # Step 4\n",
    "        arr = sorted(vals[(largestI+1):])\n",
    "        vals = vals[0:(largestI+1)]\n",
    "        vals.extend(arr)\n",
    "\n",
    "        # print('largestI',largestI,'\\nlargestJ',largestJ) # Debugger printing `LargestI` and `LargestJ` variables\n",
    "\n",
    "def swap(i,j):\n",
    "    vals[i],vals[j] = vals[j],vals[i]\n",
    "\n",
    "# def drawLexico():\n",
    "#     i=True\n",
    "#     while i:\n",
    "#         i = lexico()\n",
    "#         input()"
   ]
  },
  {
   "cell_type": "code",
   "execution_count": null,
   "metadata": {
    "tags": []
   },
   "outputs": [],
   "source": [
    "lexico()"
   ]
  },
  {
   "cell_type": "markdown",
   "metadata": {},
   "source": [
    "This cell has code for `Travelling Salesman Problem` with __lexicographic order__."
   ]
  },
  {
   "cell_type": "code",
   "execution_count": null,
   "metadata": {},
   "outputs": [],
   "source": [
    "numHouses = 5\n",
    "houses, order = [], []\n",
    "bestDist, recordDist = [], 1.7976931348623157e308\n",
    "_x, _y = [], []\n",
    "count, totalPermutation, animationSpeed = 1, 0, 0\n",
    "flg = True\n",
    "\n",
    "def setupHouses():\n",
    "    '''This function is used to create the houses by storing their location in a list'''\n",
    "    global totalPermutation,houses,order\n",
    "    \n",
    "    for i in range(numHouses):\n",
    "        houses.append((np.random.randint(10, high=500, size=2)).tolist())\n",
    "        houses[i].append(i+1)\n",
    "        order.append(i)\n",
    "    totalPermutation = factorial(numHouses)\n",
    "    cleanLogFile()\n",
    "\n",
    "def drawHouses():\n",
    "    '''This finction is ment to graph the houses' position and put a path between the houses'''\n",
    "    global recordDist,bestDist,_x,_y,order,houses,totalPermutation,animationSpeed\n",
    "    xList,yList = [],[]\n",
    "\n",
    "    # print(f'houses = {houses}\\norder = {order}') # Debugger\n",
    "    \n",
    "    plt.style.use('dark_background')\n",
    "    plt.subplots(figsize=(20, 10))\n",
    "    fig = plt.subplot(1,2,1)\n",
    "\n",
    "    # Plotting the house\n",
    "    for i in order: \n",
    "        x=houses[i][0]\n",
    "        y=houses[i][1]\n",
    "        xList.append(x)\n",
    "        yList.append(y)\n",
    "        plt.plot(x,y,'ro',ms='5')\n",
    "        plt.annotate('house {}'.format(houses[i][2]),xy=(x-10,y-10),color='y',fontsize=10)\n",
    "    plt.style.use('dark_background')\n",
    "    plt.ylim(0,510)\n",
    "    plt.xlim(0,510)\n",
    "    plt.ylabel('Latitude')\n",
    "    plt.xlabel('Longitude')\n",
    "    plt.grid(color='grey', linestyle='-', linewidth='0.25')\n",
    "    plt.plot(xList, yList, color='white')\n",
    "    plt.title(\"House Map of a locality\")\n",
    "   \n",
    "    dist = calcDistance(xList,yList)\n",
    "    logging.info(str(\"Distange for house order -> {1} is \\\"{0:.5f} units\\\"\"\n",
    "                     .format(dist,str([(i+1) for i in order])))) #Log tracking all the calculaed distances\n",
    "    if(dist < recordDist):\n",
    "        bestDist=list(order)\n",
    "        recordDist=dist\n",
    "        _x=xList\n",
    "        _y=yList\n",
    "    # print(f'bestDist = {bestDist}') # Debugger\n",
    "    # Plotting the graph of the shortest path\n",
    "    fig = plt.subplot(1,2,2)\n",
    "    plt.plot(_x,_y,'ro',ms='6')\n",
    "    plt.plot(_x, _y, color='pink',ms='5')\n",
    "    plt.title(\"Total distance = {0:.5f} units\\nVisiting House sequence:{1}\"\n",
    "              .format(recordDist,str([(i+1) for i in bestDist])))\n",
    "    plt.ylim(0,510)\n",
    "    plt.xlim(0,510)\n",
    "    plt.ylabel('Latitude')\n",
    "    plt.xlabel('Longitude')\n",
    "    plt.grid(color='grey', linestyle='-', linewidth='0.25')\n",
    "    for i,j in enumerate(bestDist):\n",
    "        plt.annotate('house {}'.format(houses[j][2]),xy=(_x[i]-10,_y[i]-10),color='y',fontsize=10)\n",
    "    \n",
    "\n",
    "    percent = 100 * (count/totalPermutation)\n",
    "    print(f'{percent:.2f}% completed.')\n",
    "    \n",
    "    plt.subplots_adjust(left=0.1,\n",
    "                    bottom=0.1, \n",
    "                    right=0.9, \n",
    "                    top=0.9, \n",
    "                    wspace=0.4, \n",
    "                    hspace=0.4)\n",
    "    plt.show() # Displaying all the ploted graph(s)\n",
    "    sleep(animationSpeed) # Setting the animation speed of the output\n",
    "\n",
    "    nextOrder()\n",
    "    \n",
    "    if flg == False:\n",
    "        sys.exit('')\n",
    "\n",
    "def swapOrder(i,j):\n",
    "    global order\n",
    "    \n",
    "    order[i],order[j] = order[j],order[i]\n",
    "\n",
    "def calcDistance(x,y):\n",
    "    global order\n",
    "    _sum, houseAindex, houseBindex = 0, 0, 0\n",
    "    for i in range(len(order)-1):\n",
    "        houseAindex=order[i]\n",
    "        houseBindex=order[i+1]\n",
    "        d = m.dist([x[houseAindex],y[houseAindex]],[x[houseBindex],y[houseBindex]])\n",
    "        _sum+=d\n",
    "    return _sum\n",
    "\n",
    "def nextOrder():\n",
    "    global order,count,flg\n",
    "\n",
    "    count+=1\n",
    "    \n",
    "    # print(order)\n",
    "\n",
    "    # Step 1\n",
    "    largestI = -1\n",
    "    for i in range(len(order)-1):\n",
    "        if order[i]<order[i+1]:\n",
    "            largestI=i\n",
    "    if largestI == -1:\n",
    "        flg=False\n",
    "        print('finished!\\a')\n",
    "        \n",
    "\n",
    "    # Step 2\n",
    "    largestJ = -1\n",
    "    for j in range(len(order)):\n",
    "        if(order[largestI]<order[j]):\n",
    "            largestJ=j\n",
    "\n",
    "    # Step 3\n",
    "    swapOrder(largestI,largestJ)\n",
    "\n",
    "    # Step 4\n",
    "    arr = sorted(order[(largestI+1):])\n",
    "    order = order[0:(largestI+1)]\n",
    "    order.extend(arr)\n",
    "    \n",
    "    # Debugger printing `LargestI` and `LargestJ` variables\n",
    "    # print('largestI',largestI,'\\nlargestJ',largestJ)\n",
    "\n",
    "def cleanLogFile():\n",
    "    with open('logfile.log','w') as file:\n",
    "        file.write('')\n",
    "    file.close()\n",
    "\n",
    "def factorial(num):\n",
    "    if num == 1:\n",
    "        return 1\n",
    "    else:\n",
    "        return num * factorial(num-1)"
   ]
  },
  {
   "cell_type": "code",
   "execution_count": null,
   "metadata": {},
   "outputs": [],
   "source": [
    "setupHouses()"
   ]
  },
  {
   "cell_type": "code",
   "execution_count": null,
   "metadata": {},
   "outputs": [],
   "source": [
    "while True:\n",
    "    drawHouses()\n",
    "    clear_output(wait=True)"
   ]
  }
 ],
 "metadata": {
  "interpreter": {
   "hash": "4be3e74c2c0c65d87ea331070dccefe34102fa439e92a60e020748a30944ee70"
  },
  "kernelspec": {
   "display_name": "Python 3 (ipykernel)",
   "language": "python",
   "name": "python3"
  },
  "language_info": {
   "codemirror_mode": {
    "name": "ipython",
    "version": 3
   },
   "file_extension": ".py",
   "mimetype": "text/x-python",
   "name": "python",
   "nbconvert_exporter": "python",
   "pygments_lexer": "ipython3",
   "version": "3.9.7"
  },
  "toc-autonumbering": false,
  "toc-showcode": false,
  "toc-showmarkdowntxt": false,
  "toc-showtags": true
 },
 "nbformat": 4,
 "nbformat_minor": 4
}
