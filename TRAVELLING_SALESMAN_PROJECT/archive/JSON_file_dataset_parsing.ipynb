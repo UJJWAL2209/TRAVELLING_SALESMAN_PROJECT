{
 "cells": [
  {
   "cell_type": "code",
   "execution_count": null,
   "id": "8a0c7f3a-c3c2-4b4d-8f60-cdf1d8a0465d",
   "metadata": {},
   "outputs": [],
   "source": [
    "import json\n",
    "with open('DataSet/Houses(Delhi).json') as file:\n",
    "    db = json.load(file)\n",
    "# print(db['house'[1]['latitude']]+'  '+db['house'[1]['longitude']])\n",
    "print(db)"
   ]
  },
  {
   "cell_type": "code",
   "execution_count": null,
   "id": "6724a92c-87b4-47fc-b183-859b822a6db0",
   "metadata": {},
   "outputs": [],
   "source": [
    "import requests\n",
    "file_to_charge = {\n",
    "                    'Delhi' : 'Houses(Delhi).json',\n",
    "                    'Chennai' : 'Houses(Chennai).json',\n",
    "                    'Kolkata' : 'Houses(Kolkata).json'\n",
    "                    }\n",
    "locationName = 'Delhi'\n",
    "url = 'https://raw.githubusercontent.com/AdrijeGuha/Travelling-Salesman-Problem/master/DataSet/'+file_to_charge[locationName]\n",
    "resp = requests.get(url)\n",
    "h_db = resp.json()\n",
    "print([h_db['house'][0]['longitude'],h_db['house'][0]['latitude']])"
   ]
  },
  {
   "cell_type": "code",
   "execution_count": null,
   "id": "9da94b19-d516-4e14-bca7-f0d0a65ea4ed",
   "metadata": {},
   "outputs": [],
   "source": []
  }
 ],
 "metadata": {
  "kernelspec": {
   "display_name": "Python 3 (ipykernel)",
   "language": "python",
   "name": "python3"
  },
  "language_info": {
   "codemirror_mode": {
    "name": "ipython",
    "version": 3
   },
   "file_extension": ".py",
   "mimetype": "text/x-python",
   "name": "python",
   "nbconvert_exporter": "python",
   "pygments_lexer": "ipython3",
   "version": "3.9.7"
  }
 },
 "nbformat": 4,
 "nbformat_minor": 5
}
