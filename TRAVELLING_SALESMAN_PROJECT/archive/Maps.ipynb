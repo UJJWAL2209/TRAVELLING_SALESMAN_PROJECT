{
 "cells": [
  {
   "cell_type": "markdown",
   "metadata": {},
   "source": [
    "### Printing Maps of various locations"
   ]
  },
  {
   "cell_type": "code",
   "execution_count": null,
   "metadata": {},
   "outputs": [],
   "source": [
    "import osmnx as ox\n",
    "import matplotlib.pyplot as plt\n",
    "from geopy.geocoders import Nominatim\n",
    "\n",
    "place='Dublin, Ireland'\n",
    "graph = ox.graph_from_place(place, network_type='drive')\n",
    "#print(type(graph))\n",
    "g = ox.project_graph(graph)\n",
    "ox.plot_graph(g)"
   ]
  },
  {
   "cell_type": "code",
   "execution_count": null,
   "metadata": {},
   "outputs": [],
   "source": [
    "import osmnx as ox\n",
    "import networkx as nx\n",
    "from IPython.display import IFrame, display\n",
    "ox.config(log_console=True, use_cache=True)\n",
    "\n",
    "place_name = 'Dublin, Ireland'\n",
    "graph = ox.graph_from_place(place_name, network_type='walk')\n",
    "\n",
    "# project the network to an appropriate UTM (automatically determined)\n",
    "graph_projected = ox.project_graph(graph)\n",
    "\n",
    "# you can also plot/save figures as SVGs to work with in Illustrator later\n",
    "fig, ax = ox.plot_graph(graph_projected, save=False)\n",
    "\n",
    "origin_node = list(graph.nodes())[150]\n",
    "destination_node = list(graph.nodes())[250]\n",
    "route = nx.shortest_path(graph, origin_node, destination_node)\n",
    "\n",
    "route_length = nx.shortest_path(graph, origin_node, destination_node, weight='length')\n",
    "\n",
    "# plot the route with folium\n",
    "route_map_length = ox.plot_route_folium(graph, route_length)\n",
    "\n",
    "# save as html file then display map as an iframe\n",
    "filepath = 'D:\\Programming\\VS Code\\Project Exhibition 1\\graph.html'\n",
    "route_map_length.save(filepath)\n",
    "IFrame(filepath, width=800, height=500)"
   ]
  },
  {
   "cell_type": "code",
   "execution_count": null,
   "metadata": {},
   "outputs": [],
   "source": [
    "#Flight distance between two real world places in kilometer(km)\n",
    "from geopy.geocoders import Nominatim\n",
    "from geopy import distance\n",
    "import networkx as nx\n",
    "\n",
    "geocoder = Nominatim(user_agent='Project Exhibition 1')\n",
    "location1 = 'Delhi'\n",
    "location2 = 'Kolkata'\n",
    "\n",
    "coordinates1 = geocoder.geocode(location1)\n",
    "coordinates2 = geocoder.geocode(location2)\n",
    "\n",
    "point1 = [coordinates1.latitude,coordinates1.longitude]\n",
    "point2 = [coordinates2.latitude,coordinates1.longitude]\n",
    "\n",
    "distanceIs = distance.distance(point1,point2)\n",
    "newDistanceIs = nx.shortest_path(, point1, point2, weight='length')\n",
    "\n",
    "print(f'Distance between {location1} and {location2} is {distanceIs}') #flight distance\n",
    "print(f'Distance between {location1} and {location2} is {newDistanceIs}') #walk distance"
   ]
  }
 ],
 "metadata": {
  "interpreter": {
   "hash": "4be3e74c2c0c65d87ea331070dccefe34102fa439e92a60e020748a30944ee70"
  },
  "kernelspec": {
   "display_name": "Python 3 (ipykernel)",
   "language": "python",
   "name": "python3"
  },
  "language_info": {
   "codemirror_mode": {
    "name": "ipython",
    "version": 3
   },
   "file_extension": ".py",
   "mimetype": "text/x-python",
   "name": "python",
   "nbconvert_exporter": "python",
   "pygments_lexer": "ipython3",
   "version": "3.9.7"
  }
 },
 "nbformat": 4,
 "nbformat_minor": 4
}
